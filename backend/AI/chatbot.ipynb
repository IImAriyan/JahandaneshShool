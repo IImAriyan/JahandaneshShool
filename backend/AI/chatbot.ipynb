{
 "cells": [
  {
   "cell_type": "code",
   "execution_count": null,
   "id": "51b33c17",
   "metadata": {},
   "outputs": [],
   "source": [
    "import openai\n",
    "\n",
    "class AI() :\n",
    "    def __init__(self):\n",
    "        openai.api_base = \"https://api.aimlapi.com/v1\"\n",
    "        openai.api_key = \"e519f1a97b8e46f4bd108ea94a2e7799\"\n",
    "\n",
    "    def chat_with_bot(self,text, conversation_history = [], system_rules=[]):\n",
    "\n",
    "        conversation_history.append(\n",
    "            {\"role\": \"user\", \"content\": text},\n",
    "        )\n",
    "\n",
    "        response = openai.ChatCompletion.create(\n",
    "            model=\"gpt-4o\",\n",
    "            messages=[\n",
    "                *system_rules,\n",
    "                *conversation_history\n",
    "            ],\n",
    "        )\n",
    "\n",
    "        output = response.choices[0].message[\"content\"]\n",
    "\n",
    "        conversation_history.append({\n",
    "            \"role\":\"assistant\",\n",
    "            \"content\": output\n",
    "        })\n",
    "\n",
    "        return output , conversation_history\n",
    "\n",
    "\n",
    " "
   ]
  },
  {
   "cell_type": "code",
   "execution_count": 32,
   "id": "7781ffe1",
   "metadata": {},
   "outputs": [],
   "source": [
    "ai = AI()\n",
    "out , conversation_history = ai.chat_with_bot(text = \"اسم تو چیه و چکار میکنی\",conversation_history=[] ,system_rules=[{\"role\": \"system\", \"content\": \"تو یک ربات برای کمک به مدرسه جهان دانش هستی\"}])"
   ]
  },
  {
   "cell_type": "code",
   "execution_count": null,
   "id": "9294f6ba",
   "metadata": {},
   "outputs": [],
   "source": [
    "out , conversation_history = ai.chat_with_bot(text = \"اسم تو چیه و چکار میکنی\",conversation_history=[] ,system_rules=[{\"role\": \"system\", \"content\": \"تو یک ربات برای کمک به مدرسه جهان دانش هستی\"}])"
   ]
  }
 ],
 "metadata": {
  "kernelspec": {
   "display_name": "Python 3",
   "language": "python",
   "name": "python3"
  },
  "language_info": {
   "codemirror_mode": {
    "name": "ipython",
    "version": 3
   },
   "file_extension": ".py",
   "mimetype": "text/x-python",
   "name": "python",
   "nbconvert_exporter": "python",
   "pygments_lexer": "ipython3",
   "version": "3.11.9"
  }
 },
 "nbformat": 4,
 "nbformat_minor": 5
}
