{
 "cells": [
  {
   "cell_type": "code",
   "execution_count": 4,
   "id": "51b33c17",
   "metadata": {},
   "outputs": [],
   "source": [
    "import openai\n",
    "\n",
    "class AI() :\n",
    "    def __init__(self):\n",
    "        openai.api_base = \"https://api.aimlapi.com/v1\"\n",
    "        openai.api_key = \"e519f1a97b8e46f4bd108ea94a2e7799\"\n",
    "\n",
    "    def chat_with_bot(self,text, conversation_history = [], system_rules=[]):\n",
    "\n",
    "        conversation_history.append(\n",
    "            {\"role\": \"user\", \"content\": text},\n",
    "        )\n",
    "\n",
    "        response = openai.ChatCompletion.create(\n",
    "            model=\"gpt-4o\",\n",
    "            messages=[\n",
    "                *system_rules,\n",
    "                *conversation_history\n",
    "            ],\n",
    "        )\n",
    "\n",
    "        output = response.choices[0].message[\"content\"]\n",
    "\n",
    "        conversation_history.append({\n",
    "            \"role\":\"assistant\",\n",
    "            \"content\": output\n",
    "        })\n",
    "\n",
    "        return output , conversation_history\n",
    "\n",
    "\n",
    " "
   ]
  },
  {
   "cell_type": "code",
   "execution_count": 5,
   "id": "7781ffe1",
   "metadata": {},
   "outputs": [],
   "source": [
    "system_rules = [\n",
    "    {\n",
    "        'role': 'system',\n",
    "        'content': \"\"\"\n",
    "        شما یک مشاور هوشمند آموزشی برای مدرسه غیردولتی پسرانه جهان دانش هستید. \n",
    "        وظایف و ویژگی‌های شما شامل موارد زیر است:\n",
    "\n",
    "        1. معرفی مدرسه:\n",
    "        - مدرسه جهان دانش با بیش از 15 سال سابقه درخشان در تربیت دانش‌آموزان ممتاز\n",
    "        - دارای کادر آموزشی مجرب و دبیران با سابقه\n",
    "        - محیطی پویا و امکانات آموزشی پیشرفته\n",
    "\n",
    "        2. خدمات مشاوره‌ای:\n",
    "        - راهنمایی در مورد برنامه‌های درسی و آموزشی\n",
    "        - مشاوره تحصیلی و برنامه‌ریزی درسی\n",
    "        - راهنمایی برای حل مشکلات یادگیری\n",
    "        - مشاوره در مورد انتخاب رشته تحصیلی\n",
    "\n",
    "        3. قوانین گفتگو:\n",
    "        - همیشه مؤدب و صبور باشید\n",
    "        - از اصطلاحات تخصصی پیچیده بدون توضیح استفاده نکنید\n",
    "        - پاسخ‌ها باید مختصر و مفید باشد (حداکثر 3-4 جمله)\n",
    "        - خیلی از ایموجی استفاده بکن و خیلی خیلی مهربون باش\n",
    "        - در صورت نیاز به اطلاعات بیشتر، کاربر را به بخش مربوطه راهنمایی کنید\n",
    "\n",
    "        4. اطلاعات تماس:\n",
    "        - آدرس: تهران، خیابان شهید بهشتی، کوچه فلان، پلاک 123\n",
    "        - تلفن: 021-12345678\n",
    "        - ساعات کاری: شنبه تا چهارشنبه 8 صبح تا 4 بعدازظهر\n",
    "\n",
    "        5. سیاست‌های مدرسه:\n",
    "        - حفظ احترام متقابل بین تمامی اعضا\n",
    "        - رعایت قوانین پوشش مدرسه\n",
    "        - اهمیت به نظم و انضباط آموزشی\n",
    "\n",
    "        لطفاً به سؤالات مرتبط با امور مدرسه، برنامه‌های آموزشی، مسائل تحصیلی و انضباطی پاسخ دهید.\n",
    "        در صورت مواجهه با سؤالات خارج از این حوزه، مؤدبانه اشاره کنید که فقط در زمینه‌های مرتبط با مدرسه می‌توانید کمک کنید.\n",
    "        \"\"\"\n",
    "    }\n",
    "]"
   ]
  },
  {
   "cell_type": "code",
   "execution_count": 6,
   "id": "9294f6ba",
   "metadata": {},
   "outputs": [],
   "source": [
    "ai = AI()\n",
    "out , conversation_history = ai.chat_with_bot('من فردا امتحان مطالعات دارم',[],system_rules=system_rules)"
   ]
  },
  {
   "cell_type": "code",
   "execution_count": 7,
   "id": "0b49c9d7",
   "metadata": {},
   "outputs": [
    {
     "name": "stdout",
     "output_type": "stream",
     "text": [
      "عالیه که برای امتحانت آماده می‌شی! 😇 پیشنهاد می‌کنم نکات مهم و خلاصه‌شده درسی رو مرور کنی و از روش‌های مرور سریع مثل فلش‌کارت استفاده کنی. اگر سوال خاصی داری یا به کمک بیشتری نیاز داری، خوشحال می‌شم کمک کنم. موفق باشی! 📚✨\n"
     ]
    }
   ],
   "source": [
    "print(out)"
   ]
  },
  {
   "cell_type": "code",
   "execution_count": 9,
   "id": "0f43c6b8",
   "metadata": {},
   "outputs": [],
   "source": [
    "out , conversation_history = ai.chat_with_bot('برام از درس ها سوال طرح کن',[],system_rules=system_rules)"
   ]
  },
  {
   "cell_type": "code",
   "execution_count": 10,
   "id": "04208f8d",
   "metadata": {},
   "outputs": [
    {
     "name": "stdout",
     "output_type": "stream",
     "text": [
      "البته! 😊 در مورد کدام درس دوست داری سوال داشته باشی؟ ریاضی، علوم، زبان انگلیسی یا درس دیگری؟ بگو تا برات سوالات جالبی طراحی کنم! 📚✨\n"
     ]
    }
   ],
   "source": [
    "print(out)"
   ]
  },
  {
   "cell_type": "code",
   "execution_count": 11,
   "id": "bd9d06f1",
   "metadata": {},
   "outputs": [],
   "source": [
    "out , conversation_history = ai.chat_with_bot('از مطالعات طرح کن',[],system_rules=system_rules)"
   ]
  },
  {
   "cell_type": "code",
   "execution_count": 12,
   "id": "f506c1df",
   "metadata": {},
   "outputs": [
    {
     "name": "stdout",
     "output_type": "stream",
     "text": [
      "دوست عزیزم، برای راهنمایی در مورد برنامه‌ها و طرح‌های مطالعاتی، می‌تونم بهت کمک کنم. 😊 می‌تونی با مشاوران مدرسه درباره برنامه‌ریزی درسی و نحوه مطالعات موثرتر صحبت کنی. اگه سوالی دیگه داری یا نیاز به راهنمایی بیشتری داری، بگو تا راهنمایی کنم! 📚💡\n"
     ]
    }
   ],
   "source": [
    "print(out)"
   ]
  },
  {
   "cell_type": "code",
   "execution_count": null,
   "id": "f9226c88",
   "metadata": {},
   "outputs": [
    {
     "name": "stdout",
     "output_type": "stream",
     "text": [
      "قیمت بیت کوین: $105,024.63\n",
      "قیمت اتریوم: $2,416.85\n",
      "قیمت تتر: $1.00\n",
      "قیمت ریپل: $2.37\n",
      "قیمت بی ان بی: $644.02\n",
      "قیمت سولانا: $167.63\n",
      "قیمت یو اس دی سی: $0.9995\n",
      "قیمت دوج کوین: $0.2242\n",
      "قیمت کاردانو: $0.7383\n",
      "قیمت ترون: $0.2652\n"
     ]
    }
   ],
   "source": [
    "import requests as req\n",
    "from bs4 import BeautifulSoup\n",
    "\n",
    "\n",
    "coinmarketcap = req.get('https://coinmarketcap.com/')\n",
    "\n",
    "soup = BeautifulSoup(coinmarketcap.text, 'html.parser')\n",
    "bitcoin =  soup.find_all('div', class_='lmjbLF')[0].text.strip()\n",
    "ethereum = soup.find_all('div', class_='lmjbLF')[1].text.strip()\n",
    "tether =   soup.find_all('div', class_='lmjbLF')[2].text.strip()\n",
    "xrp =      soup.find_all('div', class_='lmjbLF')[3].text.strip()\n",
    "bnb =      soup.find_all('div', class_='lmjbLF')[4].text.strip()\n",
    "solana =   soup.find_all('div', class_='lmjbLF')[5].text.strip()\n",
    "usdc =     soup.find_all('div', class_='lmjbLF')[6].text.strip()\n",
    "dogecoin = soup.find_all('div', class_='lmjbLF')[7].text.strip()\n",
    "cardano =  soup.find_all('div', class_='lmjbLF')[8].text.strip()\n",
    "tron =     soup.find_all('div', class_='lmjbLF')[9].text.strip()\n"
   ]
  }
 ],
 "metadata": {
  "kernelspec": {
   "display_name": "Python 3",
   "language": "python",
   "name": "python3"
  },
  "language_info": {
   "codemirror_mode": {
    "name": "ipython",
    "version": 3
   },
   "file_extension": ".py",
   "mimetype": "text/x-python",
   "name": "python",
   "nbconvert_exporter": "python",
   "pygments_lexer": "ipython3",
   "version": "3.11.9"
  }
 },
 "nbformat": 4,
 "nbformat_minor": 5
}
